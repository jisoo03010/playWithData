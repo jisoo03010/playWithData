{
 "cells": [
  {
   "cell_type": "code",
   "execution_count": 60,
   "id": "d5baeea9",
   "metadata": {},
   "outputs": [
    {
     "name": "stdout",
     "output_type": "stream",
     "text": [
      "==========> 가격표 <==========\n",
      "     아메리카노 :   2500\n",
      "     카푸치노   :   3000\n",
      "     카페라테   :   3000\n",
      "\n",
      "어떤 음료 주문하시겠어요?아메리카노\n",
      "아메리카노 몇잔 주문하시겠어요?  :3\n",
      "총 금액 : 6000\n",
      "돈을 넣어주세요 : 5000\n",
      "\n",
      "금액이 부족해요\n"
     ]
    }
   ],
   "source": [
    "# 커피 자동 주문기\n",
    "# 입력해야할 값 : 각 커피 종류에 대한 잔의 수\n",
    "# 사용자가 지불할 금액\n",
    "\n",
    "\n",
    "print(\"==========> 가격표 <==========\")\n",
    "print(\"     아메리카노 :   2500\")\n",
    "print(\"     카푸치노   :   3000\")\n",
    "print(\"     카페라테   :   3000\\n\")\n",
    "\n",
    "f = input(\"어떤 음료 주문하시겠어요?\")\n",
    "if(f == '아메리카노'):\n",
    "    noA =   input(\"아메리카노 몇잔 주문하시겠어요?  :\")\n",
    "    price = int(noA) *2000\n",
    "    print(\"총 금액 :\" , price)\n",
    "elif(f == '카푸치노'):\n",
    "    noC = input(\"카푸치노 몇잔 주문하시겠어요? :\")\n",
    "    price = int(noC) *3000\n",
    "    print(\"총 금액 :\" , price)\n",
    "elif(f == '카페라테'):\n",
    "    noL = input(\"카페라테 몇잔 주문하시겠어요? :\")\n",
    "    price = int(noL) *3000 \n",
    "    print(\"총 금액 :\" , price )\n",
    "   \n",
    "    \n",
    "\n",
    "sums = input(\"돈을 넣어주세요 : \")\n",
    "print()\n",
    "if(int(sums) == price):\n",
    "    print(\"감사합니다. 다음에 또 오세요.\")\n",
    "elif(price < int(sums)):\n",
    "    print(sums+\"받았습니다.\" ) \n",
    "    print(int(sums)-price , \"원 거스름돈 입니다.\") \n",
    "else:\n",
    "     print(\"금액이 부족해요\")\n",
    "\n"
   ]
  },
  {
   "cell_type": "code",
   "execution_count": null,
   "id": "6b9dc66f",
   "metadata": {},
   "outputs": [],
   "source": []
  },
  {
   "cell_type": "code",
   "execution_count": null,
   "id": "b162b567",
   "metadata": {},
   "outputs": [],
   "source": []
  }
 ],
 "metadata": {
  "kernelspec": {
   "display_name": "Python 3 (ipykernel)",
   "language": "python",
   "name": "python3"
  },
  "language_info": {
   "codemirror_mode": {
    "name": "ipython",
    "version": 3
   },
   "file_extension": ".py",
   "mimetype": "text/x-python",
   "name": "python",
   "nbconvert_exporter": "python",
   "pygments_lexer": "ipython3",
   "version": "3.9.7"
  }
 },
 "nbformat": 4,
 "nbformat_minor": 5
}
