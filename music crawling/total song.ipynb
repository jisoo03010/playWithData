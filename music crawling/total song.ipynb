{
 "cells": [
  {
   "cell_type": "code",
   "execution_count": 28,
   "id": "414de8b7",
   "metadata": {},
   "outputs": [],
   "source": [
    "songs =['./genie.xlsx', './bugs.xlsx', './melon.xlsx']"
   ]
  },
  {
   "cell_type": "code",
   "execution_count": 29,
   "id": "69919313",
   "metadata": {},
   "outputs": [],
   "source": [
    "import pandas as pd\n",
    "append_data = pd.DataFrame()\n",
    "for name in songs:\n",
    "    pd_data = pd.read_excel(name)\n",
    "    append_data = append_data.append(pd_data)"
   ]
  },
  {
   "cell_type": "code",
   "execution_count": 30,
   "id": "10f1aa77",
   "metadata": {},
   "outputs": [
    {
     "name": "stdout",
     "output_type": "stream",
     "text": [
      "<class 'pandas.core.frame.DataFrame'>\n",
      "Int64Index: 250 entries, 0 to 99\n",
      "Data columns (total 5 columns):\n",
      " #   Column      Non-Null Count  Dtype \n",
      "---  ------      --------------  ----- \n",
      " 0   Unnamed: 0  250 non-null    int64 \n",
      " 1   서비스         250 non-null    object\n",
      " 2   순위          250 non-null    int64 \n",
      " 3   타이틀         250 non-null    object\n",
      " 4   가수          250 non-null    object\n",
      "dtypes: int64(2), object(3)\n",
      "memory usage: 11.7+ KB\n"
     ]
    }
   ],
   "source": [
    "append_data.info()"
   ]
  },
  {
   "cell_type": "code",
   "execution_count": 31,
   "id": "0b9c9527",
   "metadata": {},
   "outputs": [],
   "source": [
    "append_data.to_excel('total.xlsx', index = False)"
   ]
  }
 ],
 "metadata": {
  "kernelspec": {
   "display_name": "Python 3 (ipykernel)",
   "language": "python",
   "name": "python3"
  },
  "language_info": {
   "codemirror_mode": {
    "name": "ipython",
    "version": 3
   },
   "file_extension": ".py",
   "mimetype": "text/x-python",
   "name": "python",
   "nbconvert_exporter": "python",
   "pygments_lexer": "ipython3",
   "version": "3.9.7"
  }
 },
 "nbformat": 4,
 "nbformat_minor": 5
}
